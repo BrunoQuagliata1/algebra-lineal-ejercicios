{
  "cells": [
    {
      "cell_type": "markdown",
      "metadata": {
        "id": "dsUTG8wTSPPx"
      },
      "source": [
        "# Listas y como recorrerlas:\n",
        "\n",
        "Comenzamos estudiando los arrays y las formas de recorrerlos"
      ]
    },
    {
      "cell_type": "code",
      "execution_count": 1,
      "metadata": {
        "colab": {
          "base_uri": "https://localhost:8080/"
        },
        "id": "-l1QswlPSMPi",
        "outputId": "de4059fb-e7f6-4eb6-dd3f-b01484ee0355"
      },
      "outputs": [
        {
          "output_type": "stream",
          "name": "stdout",
          "text": [
            "El tipo de objeto es:  <class 'list'>\n"
          ]
        }
      ],
      "source": [
        "# array\n",
        "arr1 = [\"algebra 1\", \"calculo 1\", \"matematica discreta\"]\n",
        "print(\"El tipo de objeto es: \",type(arr1))\n"
      ]
    },
    {
      "cell_type": "markdown",
      "metadata": {
        "id": "L8x-j-5ZS4SP"
      },
      "source": [
        "Los arrays en python son objetos tipo \"lista\", que tienen sus funciones (append,insert, etc).\n",
        "\n",
        "Para recorrerlo y trabajar con el:"
      ]
    },
    {
      "cell_type": "code",
      "execution_count": 2,
      "metadata": {
        "colab": {
          "base_uri": "https://localhost:8080/"
        },
        "id": "qJTCleJcTDcZ",
        "outputId": "22bb5975-a638-4548-b50b-aba741cce66d"
      },
      "outputs": [
        {
          "output_type": "stream",
          "name": "stdout",
          "text": [
            "algebra 1\n",
            "calculo 1\n",
            "matematica discreta\n"
          ]
        }
      ],
      "source": [
        "for i in arr1: # i es un ELEMENTO del array, no un índice\n",
        "  print(i)\n",
        "\n"
      ]
    },
    {
      "cell_type": "code",
      "execution_count": 3,
      "metadata": {
        "colab": {
          "base_uri": "https://localhost:8080/"
        },
        "id": "TnQBzvzeTPAP",
        "outputId": "9952409e-ee9d-40fd-d904-b547a124b618"
      },
      "outputs": [
        {
          "output_type": "stream",
          "name": "stdout",
          "text": [
            "índice: 0, elemento: algebra 1\n",
            "índice: 1, elemento: calculo 1\n",
            "índice: 2, elemento: matematica discreta\n"
          ]
        }
      ],
      "source": [
        "# tambien se puede usar una estructura mas tradicional:\n",
        "\n",
        "for i in range(len(arr1)):\n",
        "  print(f\"índice: {i}, elemento: {arr1[i]}\")\n",
        "\n"
      ]
    },
    {
      "cell_type": "code",
      "execution_count": 4,
      "metadata": {
        "colab": {
          "base_uri": "https://localhost:8080/"
        },
        "id": "1dwtiotOTgU1",
        "outputId": "dcb23555-aef4-4567-d9a9-acf4e8cdc709"
      },
      "outputs": [
        {
          "output_type": "stream",
          "name": "stdout",
          "text": [
            "valor de i: 0, materia: algebra 1\n",
            "valor de i: 1, materia: calculo 1\n",
            "valor de i: 2, materia: matematica discreta\n"
          ]
        }
      ],
      "source": [
        "# otra forma:\n",
        "\n",
        "for i, materia in enumerate(arr1): # una forma de combinar ambas formas de recorrer\n",
        "  print(f\"valor de i: {i}, materia: {materia}\")"
      ]
    },
    {
      "cell_type": "markdown",
      "metadata": {
        "id": "ojVfXMAmYK2m"
      },
      "source": [
        "Existen diversas formas de agregar elementos a arrays\n"
      ]
    },
    {
      "cell_type": "code",
      "execution_count": 5,
      "metadata": {
        "colab": {
          "base_uri": "https://localhost:8080/"
        },
        "id": "7KP6yaYsYKF6",
        "outputId": "707683ec-2180-417f-f1b0-88ee8b76b4a5"
      },
      "outputs": [
        {
          "output_type": "stream",
          "name": "stdout",
          "text": [
            "Array original, pero con la mejor matemática agregada al final: ['algebra 1', 'calculo 1', 'matematica discreta', 'Optimización con Álgebra Lineal']\n",
            "Elementos del 1 al 3:  ['calculo 1', 'matematica discreta']\n",
            "Ultimo elemento: Optimización con Álgebra Lineal\n",
            "elementos del 3 en adelante: ['matematica discreta', 'Optimización con Álgebra Lineal']\n"
          ]
        }
      ],
      "source": [
        "# agregamos la mejor matematica de ela catedra:\n",
        "\n",
        "arr1.append(\"Optimización con Álgebra Lineal\")\n",
        "print(\"Array original, pero con la mejor matemática agregada al final:\",arr1)\n",
        "\n",
        "# si queremos obtener los elementos del 1 al 2:\n",
        "\n",
        "print(\"Elementos del 1 al 3: \",arr1[1:3]) # no incluye al 3. Numericamente es comodo\n",
        "\n",
        "# si queremos el ultimo elemento:\n",
        "print(\"Ultimo elemento:\",arr1[-1])\n",
        "\n",
        "# si queremos los elementos del 2 al ultimo:\n",
        "print(\"elementos del 3 en adelante:\",arr1[2:])"
      ]
    },
    {
      "cell_type": "markdown",
      "metadata": {
        "id": "kKzv_JNwUAPD"
      },
      "source": [
        "Para trabajar con arrays numéricos, recomendamos utilizar los objetos \"numpy array\" que vienen con sus propias funciones mas orientadas al algebra"
      ]
    },
    {
      "cell_type": "code",
      "execution_count": 6,
      "metadata": {
        "colab": {
          "base_uri": "https://localhost:8080/"
        },
        "id": "p5cFtFpuT9M8",
        "outputId": "88458418-e27f-423c-bdec-15b34b2bb639"
      },
      "outputs": [
        {
          "output_type": "stream",
          "name": "stdout",
          "text": [
            "El tipo es: <class 'numpy.ndarray'>\n"
          ]
        }
      ],
      "source": [
        "import numpy as np\n",
        "arr2 = [1, 2, 3, 4, 5]\n",
        "arr2 = np.array(arr2) # lo convertimos a numpy array.\n",
        "\n",
        "# arr2 mantiene todas las propiedades de una lista normal, pero tenemos mas funciones.\n",
        "\n",
        "\n",
        "print(\"El tipo es:\",type(arr2))\n"
      ]
    },
    {
      "cell_type": "code",
      "execution_count": 7,
      "metadata": {
        "colab": {
          "base_uri": "https://localhost:8080/"
        },
        "id": "2FlEOETiUe70",
        "outputId": "3f2ceca3-313b-408a-8dea-c9806438878f"
      },
      "outputs": [
        {
          "output_type": "stream",
          "name": "stdout",
          "text": [
            "Elementos de arr2 al cuadrado:  [ 1  4  9 16 25]\n",
            "Elementos pares de arr2:\n",
            "2\n",
            "4\n"
          ]
        }
      ],
      "source": [
        "# arr2 es compatible con operaciones matematicas\n",
        "\n",
        "print(\"Elementos de arr2 al cuadrado: \",np.power(arr2, 2))\n",
        "\n",
        "# imprimir solo los numeros pares:\n",
        "\n",
        "print(\"Elementos pares de arr2:\")\n",
        "for i in arr2:\n",
        "  if i%2 == 0:\n",
        "    print(i)\n",
        "\n",
        "\n",
        "\n"
      ]
    },
    {
      "cell_type": "code",
      "execution_count": 8,
      "metadata": {
        "colab": {
          "base_uri": "https://localhost:8080/"
        },
        "id": "0NE7JQWbVQSb",
        "outputId": "c620db7c-70da-4e87-d2d9-b80671c866ee"
      },
      "outputs": [
        {
          "output_type": "stream",
          "name": "stdout",
          "text": [
            "Elementos pares de arr2\n",
            "2\n",
            "4\n",
            "Elementos impares de arr2\n",
            "1\n",
            "3\n",
            "5\n"
          ]
        }
      ],
      "source": [
        "# otra forma de hacerlo:\n",
        "# para python, 0 es igual a FALSE y cualquier cosa distinto de 0 es igual a TRUE, podemos hacer uso de eso\n",
        "print(\"Elementos pares de arr2\")\n",
        "for i in arr2:\n",
        "  if not i%2:\n",
        "    print(i)\n",
        "\n",
        "# si queremos los impares:\n",
        "print(\"Elementos impares de arr2\")\n",
        "for i in arr2:\n",
        "  if i%2: # si i%2 es 0, entonces la condicion es FALSE y no entra. Si i%2 es 1 (impar) entonces es TRUE y entra\n",
        "    print(i)\n"
      ]
    },
    {
      "cell_type": "markdown",
      "source": [
        "# Importar archivos csv\n"
      ],
      "metadata": {
        "id": "bZ7OGOkUZtAs"
      }
    },
    {
      "cell_type": "markdown",
      "source": [
        "Primero montaremos una cuenta de google drive. Hay que elegir la cuenta donde hayan subido los archivos csv."
      ],
      "metadata": {
        "id": "nr6gN06yaHw8"
      }
    },
    {
      "cell_type": "code",
      "source": [
        "from google.colab import drive\n",
        "drive.mount('/content/gdrive')"
      ],
      "metadata": {
        "colab": {
          "base_uri": "https://localhost:8080/"
        },
        "id": "7fGy2Y4jZsYj",
        "outputId": "d3e9144c-1a56-4464-86d7-6a24c566cbbd"
      },
      "execution_count": 9,
      "outputs": [
        {
          "output_type": "stream",
          "name": "stdout",
          "text": [
            "Mounted at /content/gdrive\n"
          ]
        }
      ]
    },
    {
      "cell_type": "markdown",
      "source": [
        "En Python, los datasets se suelen trabajar con la librería Pandas, la cual ofrece métodos para manipular las tablas de datos. A continuación se muestra el código inicial para cargar los datos del problema 1."
      ],
      "metadata": {
        "id": "PX1J6jyraSTJ"
      }
    },
    {
      "cell_type": "code",
      "source": [
        "# Importamos las librerías necesarias\n",
        "import cvxpy as cp\n",
        "import numpy as np\n",
        "import pandas as pd\n",
        "\n",
        "# Cargamos los datos desde los archivos CSV\n",
        "costo_ancho_de_banda_df = pd.read_csv('gdrive/My Drive/Colab Notebooks/datos/costo_ancho_de_banda.csv')\n",
        "print(\"Costo de ancho de banda:\")\n",
        "print(costo_ancho_de_banda_df)\n",
        "latencia_df = pd.read_csv('gdrive/My Drive/Colab Notebooks/datos/latencia.csv')\n",
        "print(\"Latencias:\")\n",
        "print(latencia_df)\n",
        "demanda_df = pd.read_csv('gdrive/My Drive/Colab Notebooks/datos/demanda_usuarios.csv')\n",
        "print(\"Demanda:\")\n",
        "print(demanda_df)\n",
        "carga_maxima_servidores_df = pd.read_csv('gdrive/My Drive/Colab Notebooks/datos/carga_maxima_servidores.csv')\n",
        "print(\"Carga máxima de los servidores:\")\n",
        "print(carga_maxima_servidores_df)\n",
        "\n",
        "# Extraemos las listas únicas de grupos de usuarios y servidores\n",
        "grupos_usuarios = demanda_df['grupo de usuarios'].unique()\n",
        "servidores = costo_ancho_de_banda_df['servidor'].unique()\n",
        "\n",
        "# Creamos diccionarios para un acceso más rápido a los datos\n",
        "demanda = dict(zip(demanda_df['grupo de usuarios'], demanda_df['demanda (solicitudes por minuto)']))\n",
        "print(\"Demanda (dict):\")\n",
        "print(demanda)\n",
        "\n",
        "# Transformamos los DataFrames de costos y latencias en tablas pivot\n",
        "costo_ancho_de_banda = costo_ancho_de_banda_df.pivot(\n",
        "    index='grupo de usuarios',\n",
        "    columns='servidor',\n",
        "    values='costo del ancho de banda por solicitud (USD por solicitud)'\n",
        ").fillna(0)\n",
        "\n",
        "latencia = latencia_df.pivot(\n",
        "    index='grupo de usuarios',\n",
        "    columns='servidor',\n",
        "    values='tiempo de respuesta promedio por solicitud (milisegundos)'\n",
        ").fillna(0)\n",
        "\n",
        "# Aseguramos que los valores de latencia y costo sean numéricos\n",
        "latencia = latencia.apply(pd.to_numeric, errors='coerce').fillna(0)\n",
        "costo_ancho_de_banda = costo_ancho_de_banda.apply(pd.to_numeric, errors='coerce').fillna(0)\n",
        "\n",
        "# Leemos la capacidad máxima de los servidores\n",
        "S_j = dict(zip(carga_maxima_servidores_df['servidor'], carga_maxima_servidores_df['carga maxima (solicitudes por minuto)']))\n",
        "\n",
        "# Parámetros del SLA\n",
        "L_SLA = 400  # Umbral de latencia en milisegundos\n",
        "k = 0.0000001  # Costo por milisegundo excedido por solicitud (USD por solicitud por ms)\n",
        "# La última linea que se pone en una notebook de colab se imprime."
      ],
      "metadata": {
        "colab": {
          "base_uri": "https://localhost:8080/"
        },
        "id": "l3IYg_Mhai-J",
        "outputId": "4c8b5f16-c98a-4b41-b434-110cfc2eae9a"
      },
      "execution_count": 11,
      "outputs": [
        {
          "output_type": "stream",
          "name": "stdout",
          "text": [
            "Costo de ancho de banda:\n",
            "    grupo de usuarios  servidor  \\\n",
            "0                   1         1   \n",
            "1                   1         2   \n",
            "2                   1         3   \n",
            "3                   1         4   \n",
            "4                   1         5   \n",
            "5                   1         6   \n",
            "6                   2         1   \n",
            "7                   2         2   \n",
            "8                   2         3   \n",
            "9                   2         4   \n",
            "10                  2         5   \n",
            "11                  2         6   \n",
            "12                  3         1   \n",
            "13                  3         2   \n",
            "14                  3         3   \n",
            "15                  3         4   \n",
            "16                  3         5   \n",
            "17                  3         6   \n",
            "18                  4         1   \n",
            "19                  4         2   \n",
            "20                  4         3   \n",
            "21                  4         4   \n",
            "22                  4         5   \n",
            "23                  4         6   \n",
            "24                  5         1   \n",
            "25                  5         2   \n",
            "26                  5         3   \n",
            "27                  5         4   \n",
            "28                  5         5   \n",
            "29                  5         6   \n",
            "30                  6         1   \n",
            "31                  6         2   \n",
            "32                  6         3   \n",
            "33                  6         4   \n",
            "34                  6         5   \n",
            "35                  6         6   \n",
            "36                  7         1   \n",
            "37                  7         2   \n",
            "38                  7         3   \n",
            "39                  7         4   \n",
            "40                  7         5   \n",
            "41                  7         6   \n",
            "42                  8         1   \n",
            "43                  8         2   \n",
            "44                  8         3   \n",
            "45                  8         4   \n",
            "46                  8         5   \n",
            "47                  8         6   \n",
            "\n",
            "    costo del ancho de banda por solicitud (USD por solicitud)  \n",
            "0                                             0.00001           \n",
            "1                                             0.00002           \n",
            "2                                             0.00003           \n",
            "3                                             0.00002           \n",
            "4                                             0.00001           \n",
            "5                                             0.00001           \n",
            "6                                             0.00001           \n",
            "7                                             0.00002           \n",
            "8                                             0.00003           \n",
            "9                                             0.00002           \n",
            "10                                            0.00001           \n",
            "11                                            0.00001           \n",
            "12                                            0.00001           \n",
            "13                                            0.00001           \n",
            "14                                            0.00001           \n",
            "15                                            0.00002           \n",
            "16                                            0.00003           \n",
            "17                                            0.00002           \n",
            "18                                            0.00001           \n",
            "19                                            0.00001           \n",
            "20                                            0.00003           \n",
            "21                                            0.00002           \n",
            "22                                            0.00001           \n",
            "23                                            0.00002           \n",
            "24                                            0.00003           \n",
            "25                                            0.00002           \n",
            "26                                            0.00001           \n",
            "27                                            0.00001           \n",
            "28                                            0.00003           \n",
            "29                                            0.00002           \n",
            "30                                            0.00001           \n",
            "31                                            0.00001           \n",
            "32                                            0.00001           \n",
            "33                                            0.00001           \n",
            "34                                            0.00001           \n",
            "35                                            0.00001           \n",
            "36                                            0.00002           \n",
            "37                                            0.00003           \n",
            "38                                            0.00002           \n",
            "39                                            0.00001           \n",
            "40                                            0.00002           \n",
            "41                                            0.00003           \n",
            "42                                            0.00001           \n",
            "43                                            0.00002           \n",
            "44                                            0.00003           \n",
            "45                                            0.00002           \n",
            "46                                            0.00001           \n",
            "47                                            0.00001           \n",
            "Latencias:\n",
            "    grupo de usuarios  servidor  \\\n",
            "0                   1         1   \n",
            "1                   1         2   \n",
            "2                   1         3   \n",
            "3                   1         4   \n",
            "4                   1         5   \n",
            "5                   1         6   \n",
            "6                   2         1   \n",
            "7                   2         2   \n",
            "8                   2         3   \n",
            "9                   2         4   \n",
            "10                  2         5   \n",
            "11                  2         6   \n",
            "12                  3         1   \n",
            "13                  3         2   \n",
            "14                  3         3   \n",
            "15                  3         4   \n",
            "16                  3         5   \n",
            "17                  3         6   \n",
            "18                  4         1   \n",
            "19                  4         2   \n",
            "20                  4         3   \n",
            "21                  4         4   \n",
            "22                  4         5   \n",
            "23                  4         6   \n",
            "24                  5         1   \n",
            "25                  5         2   \n",
            "26                  5         3   \n",
            "27                  5         4   \n",
            "28                  5         5   \n",
            "29                  5         6   \n",
            "30                  6         1   \n",
            "31                  6         2   \n",
            "32                  6         3   \n",
            "33                  6         4   \n",
            "34                  6         5   \n",
            "35                  6         6   \n",
            "36                  7         1   \n",
            "37                  7         2   \n",
            "38                  7         3   \n",
            "39                  7         4   \n",
            "40                  7         5   \n",
            "41                  7         6   \n",
            "42                  8         1   \n",
            "43                  8         2   \n",
            "44                  8         3   \n",
            "45                  8         4   \n",
            "46                  8         5   \n",
            "47                  8         6   \n",
            "\n",
            "   tiempo de respuesta promedio por solicitud (milisegundos)  \n",
            "0                                                 500         \n",
            "1                                                 600         \n",
            "2                                                 800         \n",
            "3                                                 900         \n",
            "4                                               1,000         \n",
            "5                                                 500         \n",
            "6                                                 500         \n",
            "7                                                 400         \n",
            "8                                                 800         \n",
            "9                                                 900         \n",
            "10                                              1,000         \n",
            "11                                                500         \n",
            "12                                                500         \n",
            "13                                                400         \n",
            "14                                                800         \n",
            "15                                                900         \n",
            "16                                                500         \n",
            "17                                                400         \n",
            "18                                                800         \n",
            "19                                                900         \n",
            "20                                                500         \n",
            "21                                                400         \n",
            "22                                                800         \n",
            "23                                                900         \n",
            "24                                              1,000         \n",
            "25                                                500         \n",
            "26                                                800         \n",
            "27                                                900         \n",
            "28                                              1,000         \n",
            "29                                                500         \n",
            "30                                                400         \n",
            "31                                                500         \n",
            "32                                                400         \n",
            "33                                                800         \n",
            "34                                                900         \n",
            "35                                              1,000         \n",
            "36                                                500         \n",
            "37                                                500         \n",
            "38                                                500         \n",
            "39                                                400         \n",
            "40                                                800         \n",
            "41                                                900         \n",
            "42                                              1,000         \n",
            "43                                                500         \n",
            "44                                                400         \n",
            "45                                                800         \n",
            "46                                                400         \n",
            "47                                              1,000         \n",
            "Demanda:\n",
            "   grupo de usuarios  demanda (solicitudes por minuto)\n",
            "0                  1                              2000\n",
            "1                  2                              1000\n",
            "2                  3                               600\n",
            "3                  4                               900\n",
            "4                  5                              1200\n",
            "5                  6                              4000\n",
            "6                  7                              2000\n",
            "7                  8                              2000\n",
            "Carga máxima de los servidores:\n",
            "   servidor  carga maxima (solicitudes por minuto)\n",
            "0         1                                   3000\n",
            "1         2                                   3000\n",
            "2         3                                   2000\n",
            "3         4                                   4000\n",
            "4         5                                   4000\n",
            "5         6                                   3000\n",
            "Demanda (dict):\n",
            "{1: 2000, 2: 1000, 3: 600, 4: 900, 5: 1200, 6: 4000, 7: 2000, 8: 2000}\n"
          ]
        }
      ]
    },
    {
      "cell_type": "code",
      "source": [
        "# Ejemplo de cómo definir una función\n",
        "def seridor_cumple_SLA_con_grupo(i, j):\n",
        "  v = latencia.iloc[i,j]\n",
        "  if v <= 400:\n",
        "    print(f\"El servidor {servidores[i]} cumple con el SLA para el grupo de usuarios {grupos_usuarios[j]}\") # Los \"f-strings\" de python pemiten concatenar valores poniendolos entre {}\n",
        "  else:\n",
        "    print(f\"El servidor {servidores[i]} NO cumple con el SLA para el grupo de usuarios {grupos_usuarios[j]}\")\n",
        "\n",
        "\n",
        "# Una vez definida la función, puedo usarla\n",
        "seridor_cumple_SLA_con_grupo(1,2)\n",
        "seridor_cumple_SLA_con_grupo(2,4)\n",
        "seridor_cumple_SLA_con_grupo(3,3)"
      ],
      "metadata": {
        "colab": {
          "base_uri": "https://localhost:8080/"
        },
        "id": "tKdBtU8idF3j",
        "outputId": "62864d22-3024-471d-92c9-895c12cf5de6"
      },
      "execution_count": 12,
      "outputs": [
        {
          "output_type": "stream",
          "name": "stdout",
          "text": [
            "El servidor 2 NO cumple con el SLA para el grupo de usuarios 3\n",
            "El servidor 3 NO cumple con el SLA para el grupo de usuarios 5\n",
            "El servidor 4 cumple con el SLA para el grupo de usuarios 4\n"
          ]
        }
      ]
    },
    {
      "cell_type": "code",
      "source": [
        "# @ es el operador de producto matricial en numpy:\n",
        "c1 = np.matrix([[1,0]\n",
        "              ,[0,1]])\n",
        "c2 = np.matrix([[1,1]\n",
        "              ,[0,1]])\n",
        "print(c1 @ c2)\n",
        "print(\"\\n\") # salto de linea\n",
        "print(c1 @ c2.T) # .T hace la traspuesta"
      ],
      "metadata": {
        "colab": {
          "base_uri": "https://localhost:8080/"
        },
        "id": "SpitADg4iOrk",
        "outputId": "65ffcdcf-4a89-420b-a169-ce7bf682f15d"
      },
      "execution_count": 13,
      "outputs": [
        {
          "output_type": "stream",
          "name": "stdout",
          "text": [
            "[[1 1]\n",
            " [0 1]]\n",
            "\n",
            "\n",
            "[[1 0]\n",
            " [1 1]]\n"
          ]
        }
      ]
    },
    {
      "cell_type": "markdown",
      "metadata": {
        "id": "VsJpg3d4VhWS"
      },
      "source": [
        "# Ejemplo: ejercicio 3 del parcial de 2022\n",
        "$$A =\n",
        "\\begin{pmatrix}\n",
        "\\frac{1}{\\sqrt{2}} & \\frac{-1}{\\sqrt{2}} \\\\\n",
        "\\frac{1}{\\sqrt{2}} & \\frac{1}{\\sqrt{2}} \\\\\n",
        "\\end{pmatrix}$$\n",
        "\n",
        "Problema:\n",
        "* Probar que $A^{8} = I$\n",
        "* Hallar valores y vectores propios"
      ]
    },
    {
      "cell_type": "code",
      "execution_count": 14,
      "metadata": {
        "colab": {
          "base_uri": "https://localhost:8080/"
        },
        "id": "B_EPXENhVlhk",
        "outputId": "3fafb480-8889-41d2-80af-efa96cb24327"
      },
      "outputs": [
        {
          "output_type": "stream",
          "name": "stdout",
          "text": [
            "La matriz es: \n",
            " [[ 0.70710678 -0.70710678]\n",
            " [ 0.70710678  0.70710678]]\n",
            "\n",
            "\n",
            "La matriz elevada a la 8 es: \n",
            " [[ 1.00000000e+00  2.39116835e-33]\n",
            " [-2.39116835e-33  1.00000000e+00]]\n"
          ]
        }
      ],
      "source": [
        "# Parte 1\n",
        "\n",
        "\n",
        "a = np.matrix([[1, -1],[1,1]]) # defino el objeto matriz\n",
        "const = np.divide(1,np.sqrt(2)) # defino el 1/sqrt(2) (puedo hacer 1/np.sqrt(2) tambien)\n",
        "a = np.dot(a, const) # multiplico la matriz por 1/sqrt(2). Uso la funcion np.dot (puedo hacer a*const tambien)\n",
        "\n",
        "\n",
        "print(f\"La matriz es: \\n {a}\")\n",
        "print(\"\\n\")\n",
        "print(f\"La matriz elevada a la 8 es: \\n {np.linalg.matrix_power(a, 8)}\") # elevo la matriz a la 8\n"
      ]
    },
    {
      "cell_type": "markdown",
      "metadata": {
        "id": "ChDRQLNHXr2v"
      },
      "source": [
        "Por errores de punto flotante, la potencia a la 8 dio con residuos, lo corregimos haciendo una funcion que redondee elemento a elemento:\n"
      ]
    },
    {
      "cell_type": "code",
      "execution_count": 15,
      "metadata": {
        "id": "oqnETsmsXx_4"
      },
      "outputs": [],
      "source": [
        "def cleanMatrix(mat, decimals = 2):\n",
        "  # Descripcion: funcion que \"limpia\" una matriz de errores de punto flotante\n",
        "\n",
        "  # Inputs:\n",
        "  # mat, objeto np.matrix\n",
        "  # decimals: (int) cantidad de decimales a redondear, por defecto en 2\n",
        "\n",
        "  # Outputs:\n",
        "  # mat redondeada, objeto np matrix\n",
        "  return np.matrix.round(mat, decimals)\n",
        "\n"
      ]
    },
    {
      "cell_type": "code",
      "execution_count": 16,
      "metadata": {
        "colab": {
          "base_uri": "https://localhost:8080/"
        },
        "id": "hJCuvGFKX0LC",
        "outputId": "41f810dc-b55e-4ed3-cf2b-3ba465bb4230"
      },
      "outputs": [
        {
          "output_type": "stream",
          "name": "stdout",
          "text": [
            "La matriz elevada a la 8 (limpia) es: \n",
            " [[ 1.  0.]\n",
            " [-0.  1.]]\n"
          ]
        }
      ],
      "source": [
        "print(f\"La matriz elevada a la 8 (limpia) es: \\n {cleanMatrix(np.linalg.matrix_power(a, 8))}\") # elevo la matriz a la 8"
      ]
    },
    {
      "cell_type": "code",
      "execution_count": 17,
      "metadata": {
        "colab": {
          "base_uri": "https://localhost:8080/"
        },
        "id": "bZvc1y72WwnM",
        "outputId": "022b6e74-be2b-4115-941a-af0b1d4005d9"
      },
      "outputs": [
        {
          "output_type": "stream",
          "name": "stdout",
          "text": [
            "los valores propios son: \n",
            " (0.7071067811865475+0.7071067811865475j) \n",
            " y: \n",
            " (0.7071067811865475-0.7071067811865475j)\n",
            "los vectores propios son:  \n",
            " [[0.70710678+0.j 0.70710678-0.j]]\n",
            " \n",
            " y \n",
            " \n",
            " [[0.-0.70710678j 0.+0.70710678j]] \n",
            "\n"
          ]
        }
      ],
      "source": [
        "# Parte 2\n",
        "\n",
        "data = np.linalg.eig(a)\n",
        "# buscar en documentacion la funcion \"numpy.linalg.eig()\" para entender que estructura retorna:\n",
        "\n",
        "valores_propios = data[0]\n",
        "vectores_propios = data[1]\n",
        "\n",
        "print(f\"los valores propios son: \\n {valores_propios[0]} \\n y: \\n {valores_propios[1]}\") # recordar que j es la unidad imaginaria\n",
        "print(f\"los vectores propios son:  \\n {vectores_propios[0]}\\n \\n y \\n \\n {vectores_propios[1]} \\n\")\n",
        "\n",
        "\n"
      ]
    },
    {
      "cell_type": "markdown",
      "metadata": {
        "id": "LjlW7YocSjFU"
      },
      "source": [
        "## Ejemplo: programacion lineal (ejercicio 4.2):\n",
        " Se dispone de un campo de 480 hectáreas, en el que se puede plantar maíz o trigo, en\n",
        "superficies a definir. El maíz genera ganancias de $30/ha$, y el trigo $40/ha$. Por otra\n",
        "parte, plantar una hectárea de maíz requiere 10 horas de tractor, una de trigo $20$ horas\n",
        "de tractor, y el tractor está disponible un máximo de $8000$ horas. Hallar las superficies\n",
        "óptimas a sembrar de cada grano para maximizar la ganancia.\n",
        "\n",
        "## Solucion:\n",
        "\n",
        "Consideramos:\n",
        "\n",
        "* $x_1$ = \"cantidad de hectáreas de maiz\"\n",
        "* $x_2$ = \"cantidad de hectáreas de trigo\"\n",
        "\n",
        "El problema queda de la forma:\n",
        "\n",
        "\n",
        " $$ \\text{max } 30x_1 + 40x_2$$\n",
        "\n",
        "$$\\text{Sujeto a:} \\\\  x_1+x_2 \\leq 480 ; \\\\\n",
        "10x_1+20x_2 \\leq 8000; \\\\\n",
        "x_1 \\geq 0; \\\\\n",
        "x_2 \\geq 0;$$\n",
        "\n",
        "Usamos la libreria CVXPY para resolver problemas de optimizacion"
      ]
    },
    {
      "cell_type": "code",
      "execution_count": 18,
      "metadata": {
        "colab": {
          "base_uri": "https://localhost:8080/"
        },
        "id": "m2SASo3DSgdK",
        "outputId": "17c889b7-881c-4740-e864-4bf43f1237a0"
      },
      "outputs": [
        {
          "output_type": "stream",
          "name": "stdout",
          "text": [
            "Solvers instalados:  ['CLARABEL', 'CVXOPT', 'ECOS', 'ECOS_BB', 'GLPK', 'GLPK_MI', 'OSQP', 'SCIPY', 'SCS']\n"
          ]
        }
      ],
      "source": [
        "\n",
        "import cvxpy as cp\n",
        "import pandas as pd\n",
        "\n",
        "print(\"Solvers instalados: \",cp.installed_solvers())\n"
      ]
    },
    {
      "cell_type": "markdown",
      "metadata": {
        "id": "DMKjdZgNahmP"
      },
      "source": [
        "Obligaremos a CVXPY a usar el solver 'GLPK' que usa SIMPLEX (ver documentacion)\n",
        "\n",
        "Formulando el problema:"
      ]
    },
    {
      "cell_type": "code",
      "execution_count": 19,
      "metadata": {
        "colab": {
          "base_uri": "https://localhost:8080/"
        },
        "id": "n7SCNXgOaeoh",
        "outputId": "4f905ba1-ecc6-4bb8-c5a6-0f1931e5a71c"
      },
      "outputs": [
        {
          "output_type": "stream",
          "name": "stdout",
          "text": [
            " Cantidad de hectareas de maiz:  160.0 \n",
            " Cantidad de hectareas de trigo: 320.0 \n",
            " Presupuesto: $17600.0\n"
          ]
        }
      ],
      "source": [
        "x = cp.Variable(2, ) # Definimos vector (x, y) y ya lo seteamos en no negativo.\n",
        "\n",
        "\n",
        "#-------------FORMULACION DE FUNCION OBJETIVO-------------#\n",
        "c = np.array([30.0, 40.0]) # vector c\n",
        "objective = cp.Maximize(c.T @ x) # para cvxpy el producto matricial es con @. (c.T es la traspuesta de c).\n",
        "\n",
        "#---------------------------------------------------------#\n",
        "\n",
        "\n",
        "#-------------FORMULACION DE CONSTRAINTS------------------#\n",
        "A = np.matrix([\n",
        "    [1  , 1]\n",
        ",   [10 , 20]]) # matriz de desigualdades\n",
        "b = np.array([\n",
        "    480,\n",
        "    8000]) # vector b\n",
        "constraints = [A @ x <= b]\n",
        "#---------------------------------------------------------#\n",
        "\n",
        "\n",
        "#---------------MODELADO y SOLUCION-----------------------#\n",
        "\n",
        "# Creacion del OBJETO problema\n",
        "prob = cp.Problem(objective, constraints)\n",
        "\n",
        "\n",
        "\n",
        "\n",
        "# Solucion del problema\n",
        "result = prob.solve(solver = 'GLPK') # valor de la funcion objetivo, el vector solucion esta en \"x.value\". Le pasamos como parametro \"GLPK\" para que use ese solver.\n",
        "\n",
        "print(f' Cantidad de hectareas de maiz:  {x.value[0]} \\n Cantidad de hectareas de trigo: {x.value[1]} \\n Presupuesto: ${result}')\n",
        "\n"
      ]
    },
    {
      "cell_type": "markdown",
      "source": [
        "# Ejercicio 4.5 - Parte 1 - Aplicado a linealización\n"
      ],
      "metadata": {
        "id": "maqbvaRUgXDE"
      }
    },
    {
      "cell_type": "code",
      "source": [
        "import matplotlib.pyplot as plt\n",
        "\n",
        "t = np.arange(0, 10, 1)\n",
        "m_value = 2\n",
        "n_value = 4\n",
        "y_value = m_value * t + n_value\n",
        "y = y_value + np.random.uniform(-2,2,len(t))\n",
        "#y[5] = y[5] + 20 #COMENTAR/DESCOMENTAR PARA VER COMPORTAMIENTO CON Y SIN OUTLIER\n",
        "\n",
        "plt.scatter(t,y)"
      ],
      "metadata": {
        "colab": {
          "base_uri": "https://localhost:8080/",
          "height": 447
        },
        "id": "cnnI76tZgchx",
        "outputId": "ea04cc24-b5d1-49e5-c100-dc6713365363"
      },
      "execution_count": 179,
      "outputs": [
        {
          "output_type": "execute_result",
          "data": {
            "text/plain": [
              "<matplotlib.collections.PathCollection at 0x7fec5091fdf0>"
            ]
          },
          "metadata": {},
          "execution_count": 179
        },
        {
          "output_type": "display_data",
          "data": {
            "text/plain": [
              "<Figure size 640x480 with 1 Axes>"
            ],
            "image/png": "[encoded data removed]"
          },
          "metadata": {}
        }
      ]
    },
    {
      "cell_type": "markdown",
      "source": [
        "Armamos las matrices para todos los casos"
      ],
      "metadata": {
        "id": "ppnCxAN9jcqz"
      }
    },
    {
      "cell_type": "code",
      "source": [
        "A = np.array([t, np.ones_like(t)])\n",
        "A = A.T\n",
        "\n",
        "b = y.T\n",
        "b"
      ],
      "metadata": {
        "colab": {
          "base_uri": "https://localhost:8080/"
        },
        "id": "vqxIsFeFjecp",
        "outputId": "0ba90393-c750-42e5-e222-9ae33f7a65eb"
      },
      "execution_count": 180,
      "outputs": [
        {
          "output_type": "execute_result",
          "data": {
            "text/plain": [
              "array([ 2.20698528,  5.10553019,  6.56370054, 11.82359903, 10.95707108,\n",
              "       15.6995544 , 16.14538552, 18.66369674, 18.21953842, 20.25437821])"
            ]
          },
          "metadata": {},
          "execution_count": 180
        }
      ]
    },
    {
      "cell_type": "markdown",
      "source": [
        "Resolvemos por mínimos cuadrados, resolviendo las ecuaciones normales"
      ],
      "metadata": {
        "id": "foa1WcoKjK1z"
      }
    },
    {
      "cell_type": "code",
      "source": [
        "x_2 = np.linalg.inv(A.T @ A) @ A.T @ b\n",
        "x_2"
      ],
      "metadata": {
        "colab": {
          "base_uri": "https://localhost:8080/"
        },
        "id": "w5KN6Oq8jJam",
        "outputId": "67143b79-ff21-4284-9a52-889c3af3ee9e"
      },
      "execution_count": 181,
      "outputs": [
        {
          "output_type": "execute_result",
          "data": {
            "text/plain": [
              "array([2.01474193, 3.49760528])"
            ]
          },
          "metadata": {},
          "execution_count": 181
        }
      ]
    },
    {
      "cell_type": "markdown",
      "source": [
        "Resolvemos por norma 1"
      ],
      "metadata": {
        "id": "NA8Eg0EElD1_"
      }
    },
    {
      "cell_type": "code",
      "source": [
        "m,n = A.shape\n",
        "A_aux_up = np.concatenate((-A, np.ones((m,1))), axis=1)\n",
        "A_aux_dn = np.concatenate((A, np.ones((m,1))), axis=1)\n",
        "A_aux = np.concatenate((A_aux_up, A_aux_dn))\n",
        "\n",
        "b_aux = np.concatenate((-b, b)).T\n",
        "b_aux\n",
        "\n",
        "c = np.array([0.0, 0.0, 1.0])"
      ],
      "metadata": {
        "id": "HiPFFbY7klAn"
      },
      "execution_count": 182,
      "outputs": []
    },
    {
      "cell_type": "code",
      "source": [
        "import cvxpy as cp\n",
        "x_aux = cp.Variable(3, ) # Definimos vector (x, y) y ya lo seteamos en no negativo.\n",
        "\n",
        "#-------------FORMULACION DE FUNCION OBJETIVO-------------#\n",
        "# vector c ya definido\n",
        "objective = cp.Minimize(c.T @ x_aux) # para cvxpy el producto matricial es con @. (c.T es la traspuesta de c).\n",
        "#---------------------------------------------------------#\n",
        "\n",
        "\n",
        "#-------------FORMULACION DE CONSTRAINTS------------------#\n",
        "# A y b ya definidos (A_aux y b_aux)\n",
        "constraints = [A_aux @ x_aux >= b_aux]\n",
        "#---------------------------------------------------------#\n",
        "\n",
        "\n",
        "#---------------MODELADO y SOLUCION-----------------------#\n",
        "# Creacion del OBJETO problema\n",
        "prob = cp.Problem(objective, constraints)\n",
        "\n",
        "# Solucion del problema\n",
        "result = prob.solve(solver = 'GLPK') # valor de la funcion objetivo, el vector solucion esta en \"x_aux.value\". Le pasamos como parametro \"GLPK\" para que use ese solver.\n",
        "#---------------------------------------------------------#"
      ],
      "metadata": {
        "id": "h73ejXGblTfJ"
      },
      "execution_count": 183,
      "outputs": []
    },
    {
      "cell_type": "code",
      "source": [
        "print(f' m:  {x_aux.value[0]} \\n  n: {x_aux.value[1]} \\n t: ${result} o ${x_aux.value[2]}')\n",
        "x_1 = np.array([x_aux.value[0], x_aux.value[1]])"
      ],
      "metadata": {
        "colab": {
          "base_uri": "https://localhost:8080/"
        },
        "id": "lP5yTgJpo8ri",
        "outputId": "bcc6fc0c-b386-40c4-d579-1fe8b1c2d83d"
      },
      "execution_count": 184,
      "outputs": [
        {
          "output_type": "stream",
          "name": "stdout",
          "text": [
            " m:  2.001569142727871 \n",
            "  n: 4.012938439941057 \n",
            " t: $1.8059531614404523 o $1.8059531614404523\n"
          ]
        }
      ]
    },
    {
      "cell_type": "markdown",
      "source": [
        "con norma infinito"
      ],
      "metadata": {
        "id": "EOhrK0V1r9Ri"
      }
    },
    {
      "cell_type": "code",
      "source": [
        "m,n = A.shape\n",
        "A_aux_up = np.concatenate((-A, np.eye((m))), axis=1)\n",
        "A_aux_dn = np.concatenate((A, np.eye((m))), axis=1)\n",
        "A_aux = np.concatenate((A_aux_up, A_aux_dn))\n",
        "\n",
        "b_aux = np.concatenate((-b, b)).T\n",
        "b_aux\n",
        "\n",
        "c = np.concatenate([np.zeros(2), np.ones(m)])\n",
        "c"
      ],
      "metadata": {
        "colab": {
          "base_uri": "https://localhost:8080/"
        },
        "id": "cZSqudknr83z",
        "outputId": "668977f1-dcda-49e9-b0a3-74871024a642"
      },
      "execution_count": 185,
      "outputs": [
        {
          "output_type": "execute_result",
          "data": {
            "text/plain": [
              "array([0., 0., 1., 1., 1., 1., 1., 1., 1., 1., 1., 1.])"
            ]
          },
          "metadata": {},
          "execution_count": 185
        }
      ]
    },
    {
      "cell_type": "code",
      "source": [
        "x_aux = cp.Variable(2+m, ) # Definimos vector (x, y) y ya lo seteamos en no negativo.\n",
        "\n",
        "#-------------FORMULACION DE FUNCION OBJETIVO-------------#\n",
        "# vector c ya definido\n",
        "objective = cp.Minimize(c.T @ x_aux) # para cvxpy el producto matricial es con @. (c.T es la traspuesta de c).\n",
        "#---------------------------------------------------------#\n",
        "\n",
        "\n",
        "#-------------FORMULACION DE CONSTRAINTS------------------#\n",
        "# A y b ya definidos (A_aux y b_aux)\n",
        "constraints = [A_aux @ x_aux >= b_aux]\n",
        "#---------------------------------------------------------#\n",
        "\n",
        "\n",
        "#---------------MODELADO y SOLUCION-----------------------#\n",
        "# Creacion del OBJETO problema\n",
        "prob = cp.Problem(objective, constraints)\n",
        "\n",
        "# Solucion del problema\n",
        "result = prob.solve(solver = 'GLPK') # valor de la funcion objetivo, el vector solucion esta en \"x_aux.value\". Le pasamos como parametro \"GLPK\" para que use ese solver.\n",
        "#---------------------------------------------------------#"
      ],
      "metadata": {
        "id": "9WbP3Gr_tIRW"
      },
      "execution_count": 186,
      "outputs": []
    },
    {
      "cell_type": "code",
      "source": [
        "x_inf = np.array([x_aux.value[0], x_aux.value[1]])"
      ],
      "metadata": {
        "id": "H7RcPwF4tSpD"
      },
      "execution_count": 187,
      "outputs": []
    },
    {
      "cell_type": "code",
      "source": [
        "plt.figure(figsize=(8, 6))\n",
        "plt.scatter(t,y)\n",
        "plt.plot(t,x_1[0]*t+x_1[1], label=\"k = 1\")\n",
        "plt.plot(t,x_2[0]*t+x_2[1], label=\"k = 2\")\n",
        "plt.plot(t,x_inf[0]*t+x_inf[1], label=\"k = inf\")\n",
        "plt.xlabel(\"Valor de t\")\n",
        "plt.ylabel(\"Valor de y\")\n",
        "plt.legend()\n",
        "plt.grid(True)\n",
        "plt.show()"
      ],
      "metadata": {
        "colab": {
          "base_uri": "https://localhost:8080/",
          "height": 542
        },
        "id": "xRICiVuV2b-F",
        "outputId": "90e323f3-2106-42d6-9ef9-4da45404f5ad"
      },
      "execution_count": 188,
      "outputs": [
        {
          "output_type": "display_data",
          "data": {
            "text/plain": [
              "<Figure size 800x600 with 1 Axes>"
            ],
            "image/png": "[encoded data removed]"
          },
          "metadata": {}
        }
      ]
    },
    {
      "cell_type": "code",
      "source": [
        "plt.figure(figsize=(8, 6))\n",
        "plt.scatter(t,y)\n",
        "plt.plot(t,x_1[0]*t+x_1[1], label=\"k = 1\")\n",
        "plt.plot(t,x_2[0]*t+x_2[1], label=\"k = 2\")\n",
        "plt.plot(t,x_inf[0]*t+x_inf[1], label=\"k = inf\")\n",
        "plt.xlabel(\"Valor de t\")\n",
        "plt.ylabel(\"Valor de y\")\n",
        "plt.legend()\n",
        "plt.grid(True)\n",
        "plt.show()"
      ],
      "metadata": {
        "colab": {
          "base_uri": "https://localhost:8080/",
          "height": 542
        },
        "id": "GIOV8rd7qeoL",
        "outputId": "2aac2218-2f7a-46fd-a5ea-f4ccb24575db"
      },
      "execution_count": 178,
      "outputs": [
        {
          "output_type": "display_data",
          "data": {
            "text/plain": [
              "<Figure size 800x600 with 1 Axes>"
            ],
            "image/png": "[encoded data removed]"
          },
          "metadata": {}
        }
      ]
    },
    {
      "cell_type": "markdown",
      "source": [
        "**Conclusión**\n",
        "\n",
        "Logramos hacer un ajuste lineal a la nube de puntos minimazando $||Ax - b||$ según la norma $1$, $2$ y $∞$.\n",
        "\n",
        "Observamos que la norma 1 es muy sensible a los *outliers* ya que el error más grande es el que pesa más (define la norma), mientras que la norma $∞$ es la menos afectada, ya que toma en cuenta el error absoluto.\n",
        "\n",
        "La norma $2$ considera los errores al cuadrado y por lo tanto también se ve afectada (un error grande, al cuadrado es peor), pero como considera también el resto de los datos, no es tan malo.\n",
        "\n"
      ],
      "metadata": {
        "id": "kBTkdZ-_uEOD"
      }
    }
  ],
  "metadata": {
    "colab": {
      "provenance": []
    },
    "kernelspec": {
      "display_name": "Python 3 (ipykernel)",
      "language": "python",
      "name": "python3"
    },
    "language_info": {
      "codemirror_mode": {
        "name": "ipython",
        "version": 3
      },
      "file_extension": ".py",
      "mimetype": "text/x-python",
      "name": "python",
      "nbconvert_exporter": "python",
      "pygments_lexer": "ipython3",
      "version": "3.8.3"
    }
  },
  "nbformat": 4,
  "nbformat_minor": 0
}