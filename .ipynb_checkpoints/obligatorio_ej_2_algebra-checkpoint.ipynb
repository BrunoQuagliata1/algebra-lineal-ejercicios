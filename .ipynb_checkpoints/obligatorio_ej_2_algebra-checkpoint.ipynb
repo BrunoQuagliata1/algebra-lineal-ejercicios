{
 "cells": [
  {
   "cell_type": "markdown",
   "metadata": {},
   "source": [
    "\n",
    "### 1. Planteamiento del Programa Lineal\n",
    "\n",
    "```markdown\n",
    "### Variables de Decisión\n",
    "x[i,j] = Horas asignadas del desarrollador i a la tarea j\n",
    "\n",
    "### Función Objetivo\n",
    "MIN Σ(i,j) (c[i] * x[i,j])\n",
    "donde:\n",
    "- c[i]: Costo por hora del desarrollador i\n",
    "\n",
    "### Restricciones\n",
    "\n",
    "1. Completitud de tareas:\n",
    "   Para cada tarea j:\n",
    "   Σ(i) (e[i,j] * x[i,j]) = h[j]\n",
    "   donde:\n",
    "   - e[i,j] = min(1, exp[i]/req[j]): Eficiencia del desarrollador i en la tarea j\n",
    "   - exp[i]: Años de experiencia del desarrollador i\n",
    "   - req[j]: Años de experiencia requeridos para la tarea j\n",
    "   - h[j]: Horas necesarias para completar la tarea j\n",
    "\n",
    "2. Disponibilidad de desarrolladores:\n",
    "   Para cada desarrollador i:\n",
    "   Σ(j) x[i,j] ≤ d[i]\n",
    "   donde:\n",
    "   - d[i]: Máximo de horas disponibles del desarrollador i\n",
    "\n",
    "3. No negatividad:\n",
    "   x[i,j] ≥ 0 para todo i,j\n",
    "```\n"
   ]
  },
  {
   "cell_type": "code",
   "execution_count": null,
   "metadata": {
    "vscode": {
     "languageId": "plaintext"
    }
   },
   "outputs": [],
   "source": [
    "\n",
    "### 2. Implementación\n",
    "\n",
    "```python\n",
    "import pandas as pd\n",
    "import numpy as np\n",
    "from pulp import *\n",
    "import seaborn as sns\n",
    "import matplotlib.pyplot as plt\n",
    "\n",
    "# Cargar datos\n",
    "tareas_df = pd.read_csv('tareas_v1.csv')\n",
    "desarrolladores_df = pd.read_csv('desarrolladores_v1.csv')\n",
    "\n",
    "# Crear el modelo\n",
    "model = LpProblem(\"Asignacion_Tareas\", LpMinimize)\n",
    "\n",
    "# Crear índices\n",
    "desarrolladores = desarrolladores_df.index.tolist()\n",
    "tareas = tareas_df.index.tolist()\n",
    "\n",
    "# Variables de decisión\n",
    "x = LpVariable.dicts(\"horas\", \n",
    "                     ((i, j) for i in desarrolladores for j in tareas), \n",
    "                     lowBound=0)\n",
    "\n",
    "# Función objetivo\n",
    "model += lpSum(desarrolladores_df.loc[i, 'costo hora'] * x[i,j] \n",
    "               for i in desarrolladores for j in tareas)\n",
    "\n",
    "# Calcular eficiencias\n",
    "def calcular_eficiencia(exp_dev, exp_req):\n",
    "    return min(1, exp_dev/exp_req)\n",
    "\n",
    "# Restricción 1: Completitud de tareas\n",
    "for j in tareas:\n",
    "    model += lpSum(calcular_eficiencia(desarrolladores_df.loc[i, 'años de experiencia'],\n",
    "                                     tareas_df.loc[j, 'años de experiencia requeridos']) * x[i,j] \n",
    "                  for i in desarrolladores) == tareas_df.loc[j, 'horas a trabajar en la tarea']\n",
    "\n",
    "# Restricción 2: Disponibilidad de desarrolladores\n",
    "for i in desarrolladores:\n",
    "    model += lpSum(x[i,j] for j in tareas) <= desarrolladores_df.loc[i, 'maximo de horas disponibles']\n",
    "\n",
    "# Resolver\n",
    "solver = PULP_CBC_CMD(msg=False)\n",
    "model.solve(solver)\n",
    "\n",
    "# Obtener resultados\n",
    "print(f\"Status: {LpStatus[model.status]}\")\n",
    "print(f\"Costo total del proyecto: ${value(model.objective):.2f}\")\n",
    "\n",
    "# Crear matriz de asignación\n",
    "asignacion = pd.DataFrame(\n",
    "    [[value(x[i,j]) for j in tareas] for i in desarrolladores],\n",
    "    index=[f\"Dev {i+1}\" for i in desarrolladores],\n",
    "    columns=[f\"Tarea {j+1}\" for j in tareas]\n",
    ")\n",
    "\n",
    "# Crear mapa de calor\n",
    "plt.figure(figsize=(15, 10))\n",
    "sns.heatmap(asignacion, annot=True, fmt='.1f', cmap='YlOrRd')\n",
    "plt.title('Asignación de Horas por Desarrollador y Tarea')\n",
    "plt.xlabel('Tareas')\n",
    "plt.ylabel('Desarrolladores')\n",
    "plt.show()\n",
    "```\n"
   ]
  },
  {
   "cell_type": "code",
   "execution_count": null,
   "metadata": {
    "vscode": {
     "languageId": "plaintext"
    }
   },
   "outputs": [],
   "source": [
    "# Mostrar estadísticas detalladas\n",
    "print(\"\\nEstadísticas por desarrollador:\")\n",
    "for i in desarrolladores:\n",
    "    horas_asignadas = sum(value(x[i,j]) for j in tareas)\n",
    "    costo_total = horas_asignadas * desarrolladores_df.loc[i, 'costo hora']\n",
    "    print(f\"Desarrollador {i+1}:\")\n",
    "    print(f\"- Horas asignadas: {horas_asignadas:.1f}\")\n",
    "    print(f\"- Costo total: ${costo_total:.2f}\")"
   ]
  }
 ],
 "metadata": {
  "language_info": {
   "name": "python"
  }
 },
 "nbformat": 4,
 "nbformat_minor": 2
}
